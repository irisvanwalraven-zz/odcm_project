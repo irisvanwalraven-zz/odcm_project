{
 "cells": [
  {
   "cell_type": "code",
   "execution_count": null,
   "id": "13732757",
   "metadata": {},
   "outputs": [],
   "source": [
    "import requests # Lets us make HTML request to Coolblue's website server for retrieving the data from their page.\n",
    "from bs4 import BeautifulSoup # Easy to use for beginners and will allow us to extract data from HTML files.\n",
    "import time # Pauses the execution of the commands. We use this because of the amount of data we gather.\n",
    "from time import sleep # Sleep package is needed to obey retrieval limits.\n",
    "import csv # Stores the scraped data in a csv file in the end.\n",
    "from datetime import datetime # Adds current day to csv file.\n",
    "import selenium\n",
    "from selenium import webdriver\n",
    "from selenium.webdriver.chrome.options import Options\n",
    "from webdriver_manager.chrome import ChromeDriverManager\n",
    "from re import search\n",
    "from selenium.webdriver import ActionChains"
   ]
  },
  {
   "cell_type": "code",
   "execution_count": null,
   "id": "4ac2c242",
   "metadata": {},
   "outputs": [],
   "source": [
    "driver = webdriver.Chrome(ChromeDriverManager().install())"
   ]
  },
  {
   "cell_type": "code",
   "execution_count": null,
   "id": "e99d2c37",
   "metadata": {},
   "outputs": [],
   "source": [
    "# Defining the base url\n",
    "base_url = 'https://www.coolblue.nl'\n",
    "driver.get(base_url)"
   ]
  },
  {
   "cell_type": "code",
   "execution_count": null,
   "id": "f63274d4",
   "metadata": {},
   "outputs": [],
   "source": [
    "# To automatically accept cookies\n",
    "driver.find_element_by_name(\"accept_cookie\").click()\n",
    "print(\"ok\")"
   ]
  },
  {
   "cell_type": "code",
   "execution_count": null,
   "id": "c7bf01a1",
   "metadata": {},
   "outputs": [],
   "source": [
    "def generate_page_urls_cc(base_url, num_pages):\n",
    "    page_urls_cc = []\n",
    "    \n",
    "    for counter in range(1,num_pages +1):\n",
    "        coolblues_choice_urls = base_url + '/en/laptops/coolblues-choice?page=' + str(counter)\n",
    "        page_urls_cc.append(coolblues_choice_urls)\n",
    "    return page_urls_cc"
   ]
  },
  {
   "cell_type": "code",
   "execution_count": null,
   "id": "3b78dcee",
   "metadata": {},
   "outputs": [],
   "source": [
    "page_urls_cc = generate_page_urls_cc(base_url, 2)\n",
    "page_urls_cc"
   ]
  },
  {
   "cell_type": "code",
   "execution_count": null,
   "id": "42a301e6",
   "metadata": {},
   "outputs": [],
   "source": [
    "def extract_laptop_urls_cc(page_urls_cc):\n",
    "    '''collect the book title and url for every book on all page urls'''\n",
    "    information_list_cc = []\n",
    "    # collect all books on page_url\n",
    "    for page_url_cc in page_urls_cc: \n",
    "        driver.get(page_url_cc)\n",
    "        res_cc = driver.page_source.encode('utf-8')\n",
    "        soup_cc = BeautifulSoup(res_cc, \"html.parser\")\n",
    "        information = soup_cc.find_all(class_=\"product-grid__card\")\n",
    "        \n",
    "        # for each book on that page look up the title and url and store it in a list\n",
    "        for info in information: \n",
    "            title_cc = info.find(\"img\").attrs[\"alt\"].replace(\" Buy a laptop?\",\"\")\n",
    "            url_cc = \"https://www.coolblue.nl\" + info.find(\"a\").attrs[\"href\"]\n",
    "            price_cc = info.find(class_=\"sales-price__current js-sales-price-current\").text\n",
    "            information_list_cc.append({\"title\": title_cc,\n",
    "                                        \"url\": url_cc,\n",
    "                                        \"price\": price_cc}) \n",
    "            \n",
    "        sleep(1)  # pause 1 second after each request\n",
    "            \n",
    "    return information_list_cc"
   ]
  },
  {
   "cell_type": "code",
   "execution_count": null,
   "id": "43cbb9d9",
   "metadata": {},
   "outputs": [],
   "source": [
    "information_list_cc = extract_laptop_urls_cc(page_urls_cc)"
   ]
  },
  {
   "cell_type": "code",
   "execution_count": null,
   "id": "52e6065a",
   "metadata": {},
   "outputs": [],
   "source": [
    "information_list_cc"
   ]
  },
  {
   "cell_type": "code",
   "execution_count": null,
   "id": "9c6dca9f",
   "metadata": {},
   "outputs": [],
   "source": []
  }
 ],
 "metadata": {
  "kernelspec": {
   "display_name": "Python 3 (ipykernel)",
   "language": "python",
   "name": "python3"
  },
  "language_info": {
   "codemirror_mode": {
    "name": "ipython",
    "version": 3
   },
   "file_extension": ".py",
   "mimetype": "text/x-python",
   "name": "python",
   "nbconvert_exporter": "python",
   "pygments_lexer": "ipython3",
   "version": "3.9.7"
  }
 },
 "nbformat": 4,
 "nbformat_minor": 5
}
